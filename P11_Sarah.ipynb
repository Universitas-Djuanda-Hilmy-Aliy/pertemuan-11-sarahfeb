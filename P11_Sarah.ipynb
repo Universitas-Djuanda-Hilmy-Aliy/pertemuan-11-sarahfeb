{
  "nbformat": 4,
  "nbformat_minor": 0,
  "metadata": {
    "colab": {
      "provenance": []
    },
    "kernelspec": {
      "name": "python3",
      "display_name": "Python 3"
    },
    "language_info": {
      "name": "python"
    }
  },
  "cells": [
    {
      "cell_type": "markdown",
      "source": [
        "<b>Overfitting</b><br>\n",
        "\n",
        "Definisi : Sebuah fenomena dimana model yang digunakan terlalu cocok atau sesuai dengan data training sehingga kehilangan kemampuan untuk melakukan deteksi pada data baru (data testing)"
      ],
      "metadata": {
        "id": "8AtGmA4DA4rN"
      }
    },
    {
      "cell_type": "markdown",
      "source": [
        "contoh : ketika hasil training bagus, tapi hasil testingnya buruk"
      ],
      "metadata": {
        "id": "-i3nDTy-Bim9"
      }
    },
    {
      "cell_type": "markdown",
      "source": [
        "Beberapa karakteristik utama terjadinya overfitting : <br>\n",
        "\n",
        "\n",
        "1.   Performanya tinggi pada data training, tetapi rendah di testing\n",
        "2.   Model yang dibuat terlalu rumit\n",
        "\n"
      ],
      "metadata": {
        "id": "7gJuUSAACavL"
      }
    },
    {
      "cell_type": "markdown",
      "source": [
        "Penyebab Overfitting :\n",
        "\n",
        "1.   Data trainingnya terlalu sedikit\n",
        "2.   Datanya tidak beragam\n",
        "3.   Model terlalu kompleks\n",
        "4.   Proses training terlalu lama\n",
        "\n",
        "\n"
      ],
      "metadata": {
        "id": "hchHedM_Cx6V"
      }
    },
    {
      "cell_type": "markdown",
      "source": [
        "Cara Mengatasi Overfitting :\n",
        "\n",
        "1.   Sediakan data yang banyak\n",
        "2.   Menggunakan Dropout\n",
        "3.   Cross Validation\n",
        "\n"
      ],
      "metadata": {
        "id": "8pnxGdH6DHAw"
      }
    },
    {
      "cell_type": "code",
      "source": [
        "import matplotlib.pyplot as plt\n",
        "from tensorflow.keras.datasets import fashion_mnist\n",
        "(tr_images,tr_labels),(ts_images,ts_labels) = fashion_mnist.load_data()"
      ],
      "metadata": {
        "id": "8c6Gs6aGFYxv"
      },
      "execution_count": 20,
      "outputs": []
    },
    {
      "cell_type": "code",
      "source": [
        "print(\"Ukuran Citra Train\",tr_images.shape)\n",
        "print(\"Jumlah Label Train\",tr_labels.shape)\n",
        "\n",
        "print(\"Ukuran Citra Train\",ts_images.shape) # 10.000 itu jumlah gambarnya, 28x28 itu ukuran gambar/citranya\n",
        "print(\"Jumlah Label Train\",ts_labels.shape)"
      ],
      "metadata": {
        "colab": {
          "base_uri": "https://localhost:8080/"
        },
        "id": "Z2HqeK2aFj9p",
        "outputId": "201a3055-6731-46c7-cf0a-5168634abe99"
      },
      "execution_count": 21,
      "outputs": [
        {
          "output_type": "stream",
          "name": "stdout",
          "text": [
            "Ukuran Citra Train (60000, 28, 28)\n",
            "Jumlah Label Train (60000,)\n",
            "Ukuran Citra Train (10000, 28, 28)\n",
            "Jumlah Label Train (10000,)\n"
          ]
        }
      ]
    },
    {
      "cell_type": "code",
      "source": [
        "print(set(tr_labels))"
      ],
      "metadata": {
        "colab": {
          "base_uri": "https://localhost:8080/"
        },
        "id": "lv56mHtMF2hm",
        "outputId": "78b4714a-38a2-4aa9-eafb-84db6e81decb"
      },
      "execution_count": 22,
      "outputs": [
        {
          "output_type": "stream",
          "name": "stdout",
          "text": [
            "{0, 1, 2, 3, 4, 5, 6, 7, 8, 9}\n"
          ]
        }
      ]
    },
    {
      "cell_type": "code",
      "source": [
        "tr_images = tr_images.reshape((60000,28*28))\n",
        "tr_images = tr_images.astype(\"float32\")/255\n",
        "\n",
        "ts_images = ts_images.reshape((10000,28*28))\n",
        "ts_images = ts_images.astype(\"float32\")/255"
      ],
      "metadata": {
        "id": "hIdzqg2gFmIj"
      },
      "execution_count": 23,
      "outputs": []
    },
    {
      "cell_type": "code",
      "source": [
        "# Arsitektur Modelnya\n",
        "\n",
        "import tensorflow as tf\n",
        "import numpy as np\n",
        "\n",
        "model = tf.keras.Sequential([\n",
        "    tf.keras.layers.Dense(512, activation = 'relu'),\n",
        "    tf.keras.layers.Dense(10,activation = 'sigmoid')\n",
        "])"
      ],
      "metadata": {
        "id": "ydocPvcpGBXg"
      },
      "execution_count": 24,
      "outputs": []
    },
    {
      "cell_type": "code",
      "source": [
        "model.compile(optimizer ='rmsprop', loss='sparse_categorical_crossentropy', metrics=['accuracy'])"
      ],
      "metadata": {
        "id": "aTHH7hbgGEKf"
      },
      "execution_count": 25,
      "outputs": []
    },
    {
      "cell_type": "code",
      "source": [
        "sampel_train_images = tr_images[:100]\n",
        "sampel_train_labels = tr_labels[:100]"
      ],
      "metadata": {
        "id": "DokhK3a1G1Ls"
      },
      "execution_count": 32,
      "outputs": []
    },
    {
      "cell_type": "code",
      "source": [
        "sampel_train_images.shape"
      ],
      "metadata": {
        "colab": {
          "base_uri": "https://localhost:8080/"
        },
        "id": "eTdt8z19Hdiv",
        "outputId": "31a4350e-68ee-45d7-b250-4d9c0e56302d"
      },
      "execution_count": 27,
      "outputs": [
        {
          "output_type": "execute_result",
          "data": {
            "text/plain": [
              "(100, 784)"
            ]
          },
          "metadata": {},
          "execution_count": 27
        }
      ]
    },
    {
      "cell_type": "code",
      "source": [
        "model.fit(sampel_train_images,sampel_train_labels, epochs=10, batch_size=128)"
      ],
      "metadata": {
        "colab": {
          "base_uri": "https://localhost:8080/"
        },
        "id": "54S__IOHGGs0",
        "outputId": "d4fc61cf-2a6c-4c88-9601-7cc6e9c3db54"
      },
      "execution_count": 30,
      "outputs": [
        {
          "output_type": "stream",
          "name": "stdout",
          "text": [
            "Epoch 1/10\n",
            "1/1 [==============================] - 0s 28ms/step - loss: 0.8986 - accuracy: 0.7300\n",
            "Epoch 2/10\n",
            "1/1 [==============================] - 0s 24ms/step - loss: 0.7596 - accuracy: 0.7700\n",
            "Epoch 3/10\n",
            "1/1 [==============================] - 0s 26ms/step - loss: 0.7259 - accuracy: 0.8100\n",
            "Epoch 4/10\n",
            "1/1 [==============================] - 0s 22ms/step - loss: 0.7964 - accuracy: 0.7400\n",
            "Epoch 5/10\n",
            "1/1 [==============================] - 0s 23ms/step - loss: 0.8965 - accuracy: 0.8100\n",
            "Epoch 6/10\n",
            "1/1 [==============================] - 0s 21ms/step - loss: 0.6647 - accuracy: 0.8000\n",
            "Epoch 7/10\n",
            "1/1 [==============================] - 0s 21ms/step - loss: 0.6393 - accuracy: 0.8300\n",
            "Epoch 8/10\n",
            "1/1 [==============================] - 0s 25ms/step - loss: 0.4256 - accuracy: 0.9400\n",
            "Epoch 9/10\n",
            "1/1 [==============================] - 0s 23ms/step - loss: 0.4103 - accuracy: 0.9000\n",
            "Epoch 10/10\n",
            "1/1 [==============================] - 0s 17ms/step - loss: 0.4055 - accuracy: 0.9300\n"
          ]
        },
        {
          "output_type": "execute_result",
          "data": {
            "text/plain": [
              "<keras.src.callbacks.History at 0x7a0984130940>"
            ]
          },
          "metadata": {},
          "execution_count": 30
        }
      ]
    },
    {
      "cell_type": "code",
      "source": [
        "prediksi2 = model(ts_images)\n",
        "prediksi2 = prediksi2.numpy() #supaya hasilnya array\n",
        "prediksi2_label = np.argmax(prediksi2,axis=1)\n",
        "prediksi2_betul = prediksi2_label == ts_labels\n",
        "print(f\"akurasi hasil data test :.{prediksi2_betul.mean():.2f}\")"
      ],
      "metadata": {
        "colab": {
          "base_uri": "https://localhost:8080/"
        },
        "id": "AtjqIa2ZGdPX",
        "outputId": "d65c4211-e7ef-463d-8721-eff78d3bc575"
      },
      "execution_count": 34,
      "outputs": [
        {
          "output_type": "stream",
          "name": "stdout",
          "text": [
            "akurasi hasil data test :.0.67\n"
          ]
        }
      ]
    },
    {
      "cell_type": "markdown",
      "source": [
        "Pembuatan Model yang lebih Deep"
      ],
      "metadata": {
        "id": "evmQHBNcLIlf"
      }
    },
    {
      "cell_type": "code",
      "source": [
        "# Arsitektur Modelnya\n",
        "\n",
        "import tensorflow as tf\n",
        "import numpy as np\n",
        "\n",
        "model2_sarah = tf.keras.Sequential([\n",
        "    tf.keras.layers.Dense(512, activation = 'relu'),\n",
        "    tf.keras.layers.Dropout(0.5),\n",
        "    tf.keras.layers.Dense(256, activation = 'relu'),\n",
        "    tf.keras.layers.Dropout(0.5),\n",
        "    tf.keras.layers.Dense(128, activation = 'relu'),\n",
        "    tf.keras.layers.Dense(64, activation = 'relu'),\n",
        "    tf.keras.layers.Dense(32, activation = 'relu'),\n",
        "    tf.keras.layers.Dense(10,activation = 'sigmoid')\n",
        "])"
      ],
      "metadata": {
        "id": "7-Swv319K3rR"
      },
      "execution_count": 40,
      "outputs": []
    },
    {
      "cell_type": "code",
      "source": [
        "model2_sarah.compile(optimizer ='rmsprop', loss='sparse_categorical_crossentropy', metrics=['accuracy'])"
      ],
      "metadata": {
        "id": "m_6wriVdMI6n"
      },
      "execution_count": 41,
      "outputs": []
    },
    {
      "cell_type": "code",
      "source": [
        "model2_sarah.fit(tr_images,tr_labels, epochs=10, batch_size=128)"
      ],
      "metadata": {
        "colab": {
          "base_uri": "https://localhost:8080/"
        },
        "id": "6Lb3G4mHM8Og",
        "outputId": "8e4544bb-6a6a-42e3-f35c-4a6ad846804b"
      },
      "execution_count": 42,
      "outputs": [
        {
          "output_type": "stream",
          "name": "stdout",
          "text": [
            "Epoch 1/10\n",
            "469/469 [==============================] - 10s 19ms/step - loss: 0.7162 - accuracy: 0.7316\n",
            "Epoch 2/10\n",
            "469/469 [==============================] - 9s 18ms/step - loss: 0.4962 - accuracy: 0.8223\n",
            "Epoch 3/10\n",
            "469/469 [==============================] - 8s 17ms/step - loss: 0.4506 - accuracy: 0.8368\n",
            "Epoch 4/10\n",
            "469/469 [==============================] - 9s 19ms/step - loss: 0.4274 - accuracy: 0.8480\n",
            "Epoch 5/10\n",
            "469/469 [==============================] - 8s 16ms/step - loss: 0.4068 - accuracy: 0.8554\n",
            "Epoch 6/10\n",
            "469/469 [==============================] - 9s 19ms/step - loss: 0.3918 - accuracy: 0.8605\n",
            "Epoch 7/10\n",
            "469/469 [==============================] - 8s 17ms/step - loss: 0.3854 - accuracy: 0.8623\n",
            "Epoch 8/10\n",
            "469/469 [==============================] - 8s 17ms/step - loss: 0.3758 - accuracy: 0.8655\n",
            "Epoch 9/10\n",
            "469/469 [==============================] - 9s 18ms/step - loss: 0.3692 - accuracy: 0.8687\n",
            "Epoch 10/10\n",
            "469/469 [==============================] - 7s 15ms/step - loss: 0.3643 - accuracy: 0.8715\n"
          ]
        },
        {
          "output_type": "execute_result",
          "data": {
            "text/plain": [
              "<keras.src.callbacks.History at 0x7a0993b34a00>"
            ]
          },
          "metadata": {},
          "execution_count": 42
        }
      ]
    },
    {
      "cell_type": "code",
      "source": [
        "model2_sarah.summary()"
      ],
      "metadata": {
        "colab": {
          "base_uri": "https://localhost:8080/"
        },
        "id": "yFZLyMuOOF5_",
        "outputId": "d655a21b-3a72-440d-8ad7-b605b9115f7e"
      },
      "execution_count": 39,
      "outputs": [
        {
          "output_type": "stream",
          "name": "stdout",
          "text": [
            "Model: \"sequential_2\"\n",
            "_________________________________________________________________\n",
            " Layer (type)                Output Shape              Param #   \n",
            "=================================================================\n",
            " dense_4 (Dense)             (None, 512)               401920    \n",
            "                                                                 \n",
            " dense_5 (Dense)             (None, 256)               131328    \n",
            "                                                                 \n",
            " dense_6 (Dense)             (None, 128)               32896     \n",
            "                                                                 \n",
            " dense_7 (Dense)             (None, 64)                8256      \n",
            "                                                                 \n",
            " dense_8 (Dense)             (None, 32)                2080      \n",
            "                                                                 \n",
            " dense_9 (Dense)             (None, 10)                330       \n",
            "                                                                 \n",
            "=================================================================\n",
            "Total params: 576810 (2.20 MB)\n",
            "Trainable params: 576810 (2.20 MB)\n",
            "Non-trainable params: 0 (0.00 Byte)\n",
            "_________________________________________________________________\n"
          ]
        }
      ]
    },
    {
      "cell_type": "code",
      "source": [
        "prediksi2 = model2_sarah(ts_images)\n",
        "prediksi2 = prediksi2.numpy() #supaya hasilnya array\n",
        "prediksi2_label = np.argmax(prediksi2,axis=1)\n",
        "prediksi2_betul = prediksi2_label == ts_labels\n",
        "print(f\"akurasi hasil data test :.{prediksi2_betul.mean():.2f}\")"
      ],
      "metadata": {
        "colab": {
          "base_uri": "https://localhost:8080/"
        },
        "id": "UPE_GhtFPuIG",
        "outputId": "60747962-eedc-44e8-9d8d-16d397ea93db"
      },
      "execution_count": 45,
      "outputs": [
        {
          "output_type": "stream",
          "name": "stdout",
          "text": [
            "akurasi hasil data test :.0.87\n"
          ]
        }
      ]
    },
    {
      "cell_type": "markdown",
      "source": [
        "Tujuan Dropout adalah untuk mencegah terjadinya overfitting."
      ],
      "metadata": {
        "id": "VzhfAXvnQLOG"
      }
    },
    {
      "cell_type": "markdown",
      "source": [
        "Pretrained Model (Model yang sudah dilatih)"
      ],
      "metadata": {
        "id": "a8CYBHbjRqP0"
      }
    },
    {
      "cell_type": "code",
      "source": [
        "model2_sarah.save('model_siti_sarah_febrihartina.h5')"
      ],
      "metadata": {
        "colab": {
          "base_uri": "https://localhost:8080/"
        },
        "id": "XUWzWe_mRPXz",
        "outputId": "afae5ca2-8ff0-4dcb-f542-fad422cdf592"
      },
      "execution_count": 46,
      "outputs": [
        {
          "output_type": "stream",
          "name": "stderr",
          "text": [
            "/usr/local/lib/python3.10/dist-packages/keras/src/engine/training.py:3103: UserWarning: You are saving your model as an HDF5 file via `model.save()`. This file format is considered legacy. We recommend using instead the native Keras format, e.g. `model.save('my_model.keras')`.\n",
            "  saving_api.save_model(\n"
          ]
        }
      ]
    }
  ]
}